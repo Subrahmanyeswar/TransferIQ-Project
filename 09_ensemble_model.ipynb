{
 "cells": [
  {
   "cell_type": "code",
   "execution_count": 1,
   "id": "a83f2553",
   "metadata": {},
   "outputs": [
    {
     "name": "stdout",
     "output_type": "stream",
     "text": [
      "✅ Data prepared for James Philip Milner\n"
     ]
    },
    {
     "name": "stderr",
     "output_type": "stream",
     "text": [
      "c:\\Users\\SUBBU\\Downloads\\TransferIQ-Project\\venv\\lib\\site-packages\\keras\\src\\layers\\rnn\\rnn.py:199: UserWarning: Do not pass an `input_shape`/`input_dim` argument to a layer. When using Sequential models, prefer using an `Input(shape)` object as the first layer in the model instead.\n",
      "  super().__init__(**kwargs)\n"
     ]
    },
    {
     "name": "stdout",
     "output_type": "stream",
     "text": [
      "✅ LSTM Model Trained.\n",
      "✅ XGBoost Model Trained.\n",
      "\u001b[1m1/1\u001b[0m \u001b[32m━━━━━━━━━━━━━━━━━━━━\u001b[0m\u001b[37m\u001b[0m \u001b[1m0s\u001b[0m 157ms/step\n",
      "✅ Ensemble Predictions Created.\n",
      "\n",
      "--- 🚀 Final Model Performance 🚀 ---\n",
      "Expert 1 - LSTM Model RMSE: 2.99 goals\n",
      "Expert 2 - XGBoost Model RMSE: 3.53 goals\n",
      "Team     - Ensemble Model RMSE: 3.12 goals\n"
     ]
    }
   ],
   "source": [
    "import pandas as pd\n",
    "import numpy as np\n",
    "import xgboost as xgb\n",
    "from sklearn.preprocessing import MinMaxScaler\n",
    "from sklearn.model_selection import train_test_split\n",
    "from sklearn.metrics import mean_squared_error\n",
    "from tensorflow.keras.models import Sequential\n",
    "from tensorflow.keras.layers import LSTM, Dense\n",
    "\n",
    "# --- 1. Load and Prepare Data (Same as before) ---\n",
    "try:\n",
    "    df_perf = pd.read_csv('Full Dataset (league standings with players stats).csv')\n",
    "    df_perf = df_perf.loc[:, ~df_perf.columns.str.contains('^Unnamed')]\n",
    "    df_perf['fullname'] = df_perf['firstname'] + ' ' + df_perf['lastname']\n",
    "    player_name = \"James Philip Milner\"\n",
    "    df_player = df_perf[df_perf['fullname'] == player_name].copy()\n",
    "    df_player = df_player.sort_values('season').dropna(subset=['totalGoals', 'goalAssists', 'totalShots'])\n",
    "    print(f\"✅ Data prepared for {player_name}\")\n",
    "except FileNotFoundError:\n",
    "    print(\"❌ File not found.\")\n",
    "    exit()\n",
    "\n",
    "# --- 2. Create Time-Series Sequences ---\n",
    "features = ['totalGoals', 'goalAssists', 'totalShots']\n",
    "target = 'totalGoals'\n",
    "lookback = 2\n",
    "X, y = [], []\n",
    "for i in range(lookback, len(df_player)):\n",
    "    X.append(df_player[features].iloc[i-lookback:i].values)\n",
    "    y.append(df_player[target].iloc[i])\n",
    "X, y = np.array(X), np.array(y)\n",
    "X_train, X_test, y_train, y_test = train_test_split(X, y, test_size=0.3, random_state=42)\n",
    "\n",
    "# --- 3. Train Both Models ---\n",
    "# Train LSTM\n",
    "scaler_X = MinMaxScaler(feature_range=(0, 1)); scaler_y = MinMaxScaler(feature_range=(0, 1))\n",
    "X_train_scaled = scaler_X.fit_transform(X_train.reshape(-1, X_train.shape[2])).reshape(X_train.shape)\n",
    "X_test_scaled = scaler_X.transform(X_test.reshape(-1, X_test.shape[2])).reshape(X_test.shape)\n",
    "y_train_scaled = scaler_y.fit_transform(y_train.reshape(-1, 1))\n",
    "\n",
    "lstm_model = Sequential([LSTM(units=50, return_sequences=True, input_shape=(X_train.shape[1], X_train.shape[2])), LSTM(units=50), Dense(units=1)])\n",
    "lstm_model.compile(optimizer='adam', loss='mean_squared_error')\n",
    "lstm_model.fit(X_train_scaled, y_train_scaled, epochs=100, batch_size=1, verbose=0)\n",
    "print(\"✅ LSTM Model Trained.\")\n",
    "\n",
    "# Train XGBoost\n",
    "X_train_xgb = X_train.reshape(X_train.shape[0], -1)\n",
    "X_test_xgb = X_test.reshape(X_test.shape[0], -1)\n",
    "xgbr = xgb.XGBRegressor(objective='reg:squarederror', n_estimators=100)\n",
    "xgbr.fit(X_train_xgb, y_train)\n",
    "print(\"✅ XGBoost Model Trained.\")\n",
    "\n",
    "# --- 4. Make Predictions with Both Models ---\n",
    "predictions_scaled_lstm = lstm_model.predict(X_test_scaled)\n",
    "predictions_lstm = scaler_y.inverse_transform(predictions_scaled_lstm)\n",
    "predictions_xgb = xgbr.predict(X_test_xgb).reshape(-1, 1) # Reshape for consistency\n",
    "\n",
    "# --- 5. Create the Ensemble Prediction ---\n",
    "ensemble_predictions = (predictions_lstm + predictions_xgb) / 2\n",
    "print(\"✅ Ensemble Predictions Created.\")\n",
    "\n",
    "# --- 6. Evaluate All Models ---\n",
    "rmse_lstm = np.sqrt(mean_squared_error(y_test, predictions_lstm))\n",
    "rmse_xgb = np.sqrt(mean_squared_error(y_test, predictions_xgb))\n",
    "rmse_ensemble = np.sqrt(mean_squared_error(y_test, ensemble_predictions))\n",
    "\n",
    "# --- 7. Final Comparison ---\n",
    "print(\"\\n--- 🚀 Final Model Performance 🚀 ---\")\n",
    "print(f\"Expert 1 - LSTM Model RMSE: {rmse_lstm:.2f} goals\")\n",
    "print(f\"Expert 2 - XGBoost Model RMSE: {rmse_xgb:.2f} goals\")\n",
    "print(f\"Team     - Ensemble Model RMSE: {rmse_ensemble:.2f} goals\")"
   ]
  }
 ],
 "metadata": {
  "kernelspec": {
   "display_name": "Python 3",
   "language": "python",
   "name": "python3"
  },
  "language_info": {
   "codemirror_mode": {
    "name": "ipython",
    "version": 3
   },
   "file_extension": ".py",
   "mimetype": "text/x-python",
   "name": "python",
   "nbconvert_exporter": "python",
   "pygments_lexer": "ipython3",
   "version": "3.10.0"
  }
 },
 "nbformat": 4,
 "nbformat_minor": 5
}
