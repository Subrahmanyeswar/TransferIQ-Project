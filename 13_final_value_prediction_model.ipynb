{
 "cells": [
  {
   "cell_type": "code",
   "execution_count": 4,
   "id": "42c57675",
   "metadata": {},
   "outputs": [
    {
     "name": "stdout",
     "output_type": "stream",
     "text": [
      "✅ Successfully loaded all datasets.\n"
     ]
    },
    {
     "name": "stderr",
     "output_type": "stream",
     "text": [
      "c:\\Users\\SUBBU\\Downloads\\TransferIQ-Project\\venv\\lib\\site-packages\\keras\\src\\layers\\rnn\\rnn.py:199: UserWarning:\n",
      "\n",
      "Do not pass an `input_shape`/`input_dim` argument to a layer. When using Sequential models, prefer using an `Input(shape)` object as the first layer in the model instead.\n",
      "\n"
     ]
    },
    {
     "name": "stdout",
     "output_type": "stream",
     "text": [
      "\n",
      "Training final transfer value prediction model...\n",
      "✅ Final model trained.\n",
      "WARNING:tensorflow:5 out of the last 7 calls to <function TensorFlowTrainer.make_predict_function.<locals>.one_step_on_data_distributed at 0x000001EC2FA308B0> triggered tf.function retracing. Tracing is expensive and the excessive number of tracings could be due to (1) creating @tf.function repeatedly in a loop, (2) passing tensors with different shapes, (3) passing Python objects instead of tensors. For (1), please define your @tf.function outside of the loop. For (2), @tf.function has reduce_retracing=True option that can avoid unnecessary retracing. For (3), please refer to https://www.tensorflow.org/guide/function#controlling_retracing and https://www.tensorflow.org/api_docs/python/tf/function for  more details.\n",
      "\u001b[1m1/1\u001b[0m \u001b[32m━━━━━━━━━━━━━━━━━━━━\u001b[0m\u001b[37m\u001b[0m \u001b[1m0s\u001b[0m 146ms/step\n",
      "\u001b[1m1/1\u001b[0m \u001b[32m━━━━━━━━━━━━━━━━━━━━\u001b[0m\u001b[37m\u001b[0m \u001b[1m0s\u001b[0m 28ms/step\n",
      "\u001b[1m1/1\u001b[0m \u001b[32m━━━━━━━━━━━━━━━━━━━━\u001b[0m\u001b[37m\u001b[0m \u001b[1m0s\u001b[0m 27ms/step\n",
      "\u001b[1m1/1\u001b[0m \u001b[32m━━━━━━━━━━━━━━━━━━━━\u001b[0m\u001b[37m\u001b[0m \u001b[1m0s\u001b[0m 24ms/step\n"
     ]
    },
    {
     "data": {
      "application/vnd.plotly.v1+json": {
       "config": {
        "plotlyServerURL": "https://plot.ly"
       },
       "data": [
        {
         "mode": "lines",
         "name": "Actual Historical Value",
         "type": "scatter",
         "x": [
          "2004-10-04T00:00:00.000000000",
          "2004-10-04T00:00:00.000000000",
          "2004-10-04T00:00:00.000000000",
          "2004-10-04T00:00:00.000000000",
          "2004-10-04T00:00:00.000000000",
          "2004-10-04T00:00:00.000000000",
          "2004-10-04T00:00:00.000000000",
          "2004-10-04T00:00:00.000000000",
          "2004-10-04T00:00:00.000000000",
          "2004-10-04T00:00:00.000000000",
          "2005-02-01T00:00:00.000000000",
          "2005-02-01T00:00:00.000000000",
          "2005-09-01T00:00:00.000000000",
          "2005-09-01T00:00:00.000000000",
          "2006-04-17T00:00:00.000000000",
          "2006-04-17T00:00:00.000000000",
          "2006-04-17T00:00:00.000000000",
          "2006-04-17T00:00:00.000000000",
          "2007-09-01T00:00:00.000000000",
          "2007-09-01T00:00:00.000000000",
          "2007-09-01T00:00:00.000000000",
          "2007-09-01T00:00:00.000000000",
          "2008-01-29T00:00:00.000000000",
          "2008-01-29T00:00:00.000000000",
          "2008-09-01T00:00:00.000000000",
          "2008-09-01T00:00:00.000000000",
          "2009-02-23T00:00:00.000000000",
          "2009-02-23T00:00:00.000000000",
          "2009-06-26T00:00:00.000000000",
          "2009-06-26T00:00:00.000000000",
          "2010-01-24T00:00:00.000000000",
          "2010-01-24T00:00:00.000000000",
          "2010-08-13T00:00:00.000000000",
          "2010-08-13T00:00:00.000000000",
          "2011-02-01T00:00:00.000000000",
          "2011-02-01T00:00:00.000000000",
          "2011-08-08T00:00:00.000000000",
          "2011-08-08T00:00:00.000000000",
          "2012-02-06T00:00:00.000000000",
          "2012-02-06T00:00:00.000000000",
          "2012-06-24T00:00:00.000000000",
          "2012-06-24T00:00:00.000000000",
          "2013-01-28T00:00:00.000000000",
          "2013-01-28T00:00:00.000000000",
          "2013-07-02T00:00:00.000000000",
          "2013-07-02T00:00:00.000000000",
          "2014-01-15T00:00:00.000000000",
          "2014-01-15T00:00:00.000000000",
          "2014-08-12T00:00:00.000000000",
          "2014-08-12T00:00:00.000000000",
          "2015-02-12T00:00:00.000000000",
          "2015-02-12T00:00:00.000000000",
          "2015-07-01T00:00:00.000000000",
          "2015-07-01T00:00:00.000000000",
          "2016-02-09T00:00:00.000000000",
          "2016-02-09T00:00:00.000000000",
          "2016-06-01T00:00:00.000000000",
          "2016-08-01T00:00:00.000000000",
          "2017-02-20T00:00:00.000000000",
          "2017-02-20T00:00:00.000000000",
          "2017-06-28T00:00:00.000000000",
          "2017-06-28T00:00:00.000000000",
          "2018-01-02T00:00:00.000000000",
          "2018-05-28T00:00:00.000000000",
          "2018-05-28T00:00:00.000000000",
          "2018-12-19T00:00:00.000000000",
          "2018-12-19T00:00:00.000000000",
          "2019-06-13T00:00:00.000000000",
          "2019-06-13T00:00:00.000000000",
          "2019-12-10T00:00:00.000000000",
          "2019-12-10T00:00:00.000000000",
          "2020-04-08T00:00:00.000000000",
          "2020-04-08T00:00:00.000000000",
          "2020-10-13T00:00:00.000000000",
          "2021-03-18T00:00:00.000000000",
          "2021-03-18T00:00:00.000000000",
          "2021-06-08T00:00:00.000000000",
          "2021-12-23T00:00:00.000000000",
          "2021-12-23T00:00:00.000000000",
          "2022-06-15T00:00:00.000000000",
          "2022-06-15T00:00:00.000000000",
          "2022-11-03T00:00:00.000000000",
          "2022-11-03T00:00:00.000000000",
          "2023-06-20T00:00:00.000000000",
          "2023-06-20T00:00:00.000000000",
          "2023-12-19T00:00:00.000000000",
          "2023-12-19T00:00:00.000000000",
          "2024-05-27T00:00:00.000000000",
          "2024-05-27T00:00:00.000000000",
          "2024-12-16T00:00:00.000000000",
          "2024-12-16T00:00:00.000000000",
          "2025-05-30T00:00:00.000000000",
          "2025-05-30T00:00:00.000000000"
         ],
         "y": {
          "bdata": "4HByAOBwcgDgcHIA4HByAOBwcgDgcHIA4HByAOBwcgDgcHIA4HByAGDsUwBg7FMAgI1bAICNWwBgt0cAYLdHAGC3RwBgt0cAABJ6AAASegAAEnoAABJ6ALCDhQCwg4UAgJaYAICWmADgea8A4HmvAEBdxgBAXcYAQGYDAUBmAwEALTEBAC0xAQAtMQEALTEBgKgSAYCoEgEALTEBAC0xAUBvQAFAb0ABQGYDAUBmAwGAqBIBgKgSAcDh5ADA4eQAgJ/VAICf1QCAn9UAgJ/VAICf1QCAn9UAgJ/VAICf1QDA4eQAwOHkAMDh5ADA4eQAABu3AAAbtwAAG7cAwOHkAMDh5ADA4eQAwOHkAMDh5ADA4eQAABu3AAAbtwCgLmMAoC5jAEBLTADAxi0AwMYtAMDGLQCAhB4AgIQeAICEHgCAhB4AgIQeAICEHgBg4xYAYOMWAEBCDwBAQg8AQEIPAEBCDwBAQg8AQEIPAEBCDwBAQg8A",
          "dtype": "i4"
         }
        },
        {
         "line": {
          "dash": "dash"
         },
         "mode": "lines+markers",
         "name": "Forecasted Future Value",
         "type": "scatter",
         "x": [
          "2025-09-30T00:00:00.000000000",
          "2025-12-31T00:00:00.000000000",
          "2026-03-31T00:00:00.000000000",
          "2026-06-30T00:00:00.000000000"
         ],
         "y": {
          "bdata": "AMAR+zDVLUEAkOGGCNoqQf+frcP12DpB/7dIck2pOEE=",
          "dtype": "f8"
         }
        }
       ],
       "layout": {
        "template": {
         "data": {
          "bar": [
           {
            "error_x": {
             "color": "#2a3f5f"
            },
            "error_y": {
             "color": "#2a3f5f"
            },
            "marker": {
             "line": {
              "color": "#E5ECF6",
              "width": 0.5
             },
             "pattern": {
              "fillmode": "overlay",
              "size": 10,
              "solidity": 0.2
             }
            },
            "type": "bar"
           }
          ],
          "barpolar": [
           {
            "marker": {
             "line": {
              "color": "#E5ECF6",
              "width": 0.5
             },
             "pattern": {
              "fillmode": "overlay",
              "size": 10,
              "solidity": 0.2
             }
            },
            "type": "barpolar"
           }
          ],
          "carpet": [
           {
            "aaxis": {
             "endlinecolor": "#2a3f5f",
             "gridcolor": "white",
             "linecolor": "white",
             "minorgridcolor": "white",
             "startlinecolor": "#2a3f5f"
            },
            "baxis": {
             "endlinecolor": "#2a3f5f",
             "gridcolor": "white",
             "linecolor": "white",
             "minorgridcolor": "white",
             "startlinecolor": "#2a3f5f"
            },
            "type": "carpet"
           }
          ],
          "choropleth": [
           {
            "colorbar": {
             "outlinewidth": 0,
             "ticks": ""
            },
            "type": "choropleth"
           }
          ],
          "contour": [
           {
            "colorbar": {
             "outlinewidth": 0,
             "ticks": ""
            },
            "colorscale": [
             [
              0,
              "#0d0887"
             ],
             [
              0.1111111111111111,
              "#46039f"
             ],
             [
              0.2222222222222222,
              "#7201a8"
             ],
             [
              0.3333333333333333,
              "#9c179e"
             ],
             [
              0.4444444444444444,
              "#bd3786"
             ],
             [
              0.5555555555555556,
              "#d8576b"
             ],
             [
              0.6666666666666666,
              "#ed7953"
             ],
             [
              0.7777777777777778,
              "#fb9f3a"
             ],
             [
              0.8888888888888888,
              "#fdca26"
             ],
             [
              1,
              "#f0f921"
             ]
            ],
            "type": "contour"
           }
          ],
          "contourcarpet": [
           {
            "colorbar": {
             "outlinewidth": 0,
             "ticks": ""
            },
            "type": "contourcarpet"
           }
          ],
          "heatmap": [
           {
            "colorbar": {
             "outlinewidth": 0,
             "ticks": ""
            },
            "colorscale": [
             [
              0,
              "#0d0887"
             ],
             [
              0.1111111111111111,
              "#46039f"
             ],
             [
              0.2222222222222222,
              "#7201a8"
             ],
             [
              0.3333333333333333,
              "#9c179e"
             ],
             [
              0.4444444444444444,
              "#bd3786"
             ],
             [
              0.5555555555555556,
              "#d8576b"
             ],
             [
              0.6666666666666666,
              "#ed7953"
             ],
             [
              0.7777777777777778,
              "#fb9f3a"
             ],
             [
              0.8888888888888888,
              "#fdca26"
             ],
             [
              1,
              "#f0f921"
             ]
            ],
            "type": "heatmap"
           }
          ],
          "histogram": [
           {
            "marker": {
             "pattern": {
              "fillmode": "overlay",
              "size": 10,
              "solidity": 0.2
             }
            },
            "type": "histogram"
           }
          ],
          "histogram2d": [
           {
            "colorbar": {
             "outlinewidth": 0,
             "ticks": ""
            },
            "colorscale": [
             [
              0,
              "#0d0887"
             ],
             [
              0.1111111111111111,
              "#46039f"
             ],
             [
              0.2222222222222222,
              "#7201a8"
             ],
             [
              0.3333333333333333,
              "#9c179e"
             ],
             [
              0.4444444444444444,
              "#bd3786"
             ],
             [
              0.5555555555555556,
              "#d8576b"
             ],
             [
              0.6666666666666666,
              "#ed7953"
             ],
             [
              0.7777777777777778,
              "#fb9f3a"
             ],
             [
              0.8888888888888888,
              "#fdca26"
             ],
             [
              1,
              "#f0f921"
             ]
            ],
            "type": "histogram2d"
           }
          ],
          "histogram2dcontour": [
           {
            "colorbar": {
             "outlinewidth": 0,
             "ticks": ""
            },
            "colorscale": [
             [
              0,
              "#0d0887"
             ],
             [
              0.1111111111111111,
              "#46039f"
             ],
             [
              0.2222222222222222,
              "#7201a8"
             ],
             [
              0.3333333333333333,
              "#9c179e"
             ],
             [
              0.4444444444444444,
              "#bd3786"
             ],
             [
              0.5555555555555556,
              "#d8576b"
             ],
             [
              0.6666666666666666,
              "#ed7953"
             ],
             [
              0.7777777777777778,
              "#fb9f3a"
             ],
             [
              0.8888888888888888,
              "#fdca26"
             ],
             [
              1,
              "#f0f921"
             ]
            ],
            "type": "histogram2dcontour"
           }
          ],
          "mesh3d": [
           {
            "colorbar": {
             "outlinewidth": 0,
             "ticks": ""
            },
            "type": "mesh3d"
           }
          ],
          "parcoords": [
           {
            "line": {
             "colorbar": {
              "outlinewidth": 0,
              "ticks": ""
             }
            },
            "type": "parcoords"
           }
          ],
          "pie": [
           {
            "automargin": true,
            "type": "pie"
           }
          ],
          "scatter": [
           {
            "fillpattern": {
             "fillmode": "overlay",
             "size": 10,
             "solidity": 0.2
            },
            "type": "scatter"
           }
          ],
          "scatter3d": [
           {
            "line": {
             "colorbar": {
              "outlinewidth": 0,
              "ticks": ""
             }
            },
            "marker": {
             "colorbar": {
              "outlinewidth": 0,
              "ticks": ""
             }
            },
            "type": "scatter3d"
           }
          ],
          "scattercarpet": [
           {
            "marker": {
             "colorbar": {
              "outlinewidth": 0,
              "ticks": ""
             }
            },
            "type": "scattercarpet"
           }
          ],
          "scattergeo": [
           {
            "marker": {
             "colorbar": {
              "outlinewidth": 0,
              "ticks": ""
             }
            },
            "type": "scattergeo"
           }
          ],
          "scattergl": [
           {
            "marker": {
             "colorbar": {
              "outlinewidth": 0,
              "ticks": ""
             }
            },
            "type": "scattergl"
           }
          ],
          "scattermap": [
           {
            "marker": {
             "colorbar": {
              "outlinewidth": 0,
              "ticks": ""
             }
            },
            "type": "scattermap"
           }
          ],
          "scattermapbox": [
           {
            "marker": {
             "colorbar": {
              "outlinewidth": 0,
              "ticks": ""
             }
            },
            "type": "scattermapbox"
           }
          ],
          "scatterpolar": [
           {
            "marker": {
             "colorbar": {
              "outlinewidth": 0,
              "ticks": ""
             }
            },
            "type": "scatterpolar"
           }
          ],
          "scatterpolargl": [
           {
            "marker": {
             "colorbar": {
              "outlinewidth": 0,
              "ticks": ""
             }
            },
            "type": "scatterpolargl"
           }
          ],
          "scatterternary": [
           {
            "marker": {
             "colorbar": {
              "outlinewidth": 0,
              "ticks": ""
             }
            },
            "type": "scatterternary"
           }
          ],
          "surface": [
           {
            "colorbar": {
             "outlinewidth": 0,
             "ticks": ""
            },
            "colorscale": [
             [
              0,
              "#0d0887"
             ],
             [
              0.1111111111111111,
              "#46039f"
             ],
             [
              0.2222222222222222,
              "#7201a8"
             ],
             [
              0.3333333333333333,
              "#9c179e"
             ],
             [
              0.4444444444444444,
              "#bd3786"
             ],
             [
              0.5555555555555556,
              "#d8576b"
             ],
             [
              0.6666666666666666,
              "#ed7953"
             ],
             [
              0.7777777777777778,
              "#fb9f3a"
             ],
             [
              0.8888888888888888,
              "#fdca26"
             ],
             [
              1,
              "#f0f921"
             ]
            ],
            "type": "surface"
           }
          ],
          "table": [
           {
            "cells": {
             "fill": {
              "color": "#EBF0F8"
             },
             "line": {
              "color": "white"
             }
            },
            "header": {
             "fill": {
              "color": "#C8D4E3"
             },
             "line": {
              "color": "white"
             }
            },
            "type": "table"
           }
          ]
         },
         "layout": {
          "annotationdefaults": {
           "arrowcolor": "#2a3f5f",
           "arrowhead": 0,
           "arrowwidth": 1
          },
          "autotypenumbers": "strict",
          "coloraxis": {
           "colorbar": {
            "outlinewidth": 0,
            "ticks": ""
           }
          },
          "colorscale": {
           "diverging": [
            [
             0,
             "#8e0152"
            ],
            [
             0.1,
             "#c51b7d"
            ],
            [
             0.2,
             "#de77ae"
            ],
            [
             0.3,
             "#f1b6da"
            ],
            [
             0.4,
             "#fde0ef"
            ],
            [
             0.5,
             "#f7f7f7"
            ],
            [
             0.6,
             "#e6f5d0"
            ],
            [
             0.7,
             "#b8e186"
            ],
            [
             0.8,
             "#7fbc41"
            ],
            [
             0.9,
             "#4d9221"
            ],
            [
             1,
             "#276419"
            ]
           ],
           "sequential": [
            [
             0,
             "#0d0887"
            ],
            [
             0.1111111111111111,
             "#46039f"
            ],
            [
             0.2222222222222222,
             "#7201a8"
            ],
            [
             0.3333333333333333,
             "#9c179e"
            ],
            [
             0.4444444444444444,
             "#bd3786"
            ],
            [
             0.5555555555555556,
             "#d8576b"
            ],
            [
             0.6666666666666666,
             "#ed7953"
            ],
            [
             0.7777777777777778,
             "#fb9f3a"
            ],
            [
             0.8888888888888888,
             "#fdca26"
            ],
            [
             1,
             "#f0f921"
            ]
           ],
           "sequentialminus": [
            [
             0,
             "#0d0887"
            ],
            [
             0.1111111111111111,
             "#46039f"
            ],
            [
             0.2222222222222222,
             "#7201a8"
            ],
            [
             0.3333333333333333,
             "#9c179e"
            ],
            [
             0.4444444444444444,
             "#bd3786"
            ],
            [
             0.5555555555555556,
             "#d8576b"
            ],
            [
             0.6666666666666666,
             "#ed7953"
            ],
            [
             0.7777777777777778,
             "#fb9f3a"
            ],
            [
             0.8888888888888888,
             "#fdca26"
            ],
            [
             1,
             "#f0f921"
            ]
           ]
          },
          "colorway": [
           "#636efa",
           "#EF553B",
           "#00cc96",
           "#ab63fa",
           "#FFA15A",
           "#19d3f3",
           "#FF6692",
           "#B6E880",
           "#FF97FF",
           "#FECB52"
          ],
          "font": {
           "color": "#2a3f5f"
          },
          "geo": {
           "bgcolor": "white",
           "lakecolor": "white",
           "landcolor": "#E5ECF6",
           "showlakes": true,
           "showland": true,
           "subunitcolor": "white"
          },
          "hoverlabel": {
           "align": "left"
          },
          "hovermode": "closest",
          "mapbox": {
           "style": "light"
          },
          "paper_bgcolor": "white",
          "plot_bgcolor": "#E5ECF6",
          "polar": {
           "angularaxis": {
            "gridcolor": "white",
            "linecolor": "white",
            "ticks": ""
           },
           "bgcolor": "#E5ECF6",
           "radialaxis": {
            "gridcolor": "white",
            "linecolor": "white",
            "ticks": ""
           }
          },
          "scene": {
           "xaxis": {
            "backgroundcolor": "#E5ECF6",
            "gridcolor": "white",
            "gridwidth": 2,
            "linecolor": "white",
            "showbackground": true,
            "ticks": "",
            "zerolinecolor": "white"
           },
           "yaxis": {
            "backgroundcolor": "#E5ECF6",
            "gridcolor": "white",
            "gridwidth": 2,
            "linecolor": "white",
            "showbackground": true,
            "ticks": "",
            "zerolinecolor": "white"
           },
           "zaxis": {
            "backgroundcolor": "#E5ECF6",
            "gridcolor": "white",
            "gridwidth": 2,
            "linecolor": "white",
            "showbackground": true,
            "ticks": "",
            "zerolinecolor": "white"
           }
          },
          "shapedefaults": {
           "line": {
            "color": "#2a3f5f"
           }
          },
          "ternary": {
           "aaxis": {
            "gridcolor": "white",
            "linecolor": "white",
            "ticks": ""
           },
           "baxis": {
            "gridcolor": "white",
            "linecolor": "white",
            "ticks": ""
           },
           "bgcolor": "#E5ECF6",
           "caxis": {
            "gridcolor": "white",
            "linecolor": "white",
            "ticks": ""
           }
          },
          "title": {
           "x": 0.05
          },
          "xaxis": {
           "automargin": true,
           "gridcolor": "white",
           "linecolor": "white",
           "ticks": "",
           "title": {
            "standoff": 15
           },
           "zerolinecolor": "white",
           "zerolinewidth": 2
          },
          "yaxis": {
           "automargin": true,
           "gridcolor": "white",
           "linecolor": "white",
           "ticks": "",
           "title": {
            "standoff": 15
           },
           "zerolinecolor": "white",
           "zerolinewidth": 2
          }
         }
        },
        "title": {
         "text": "Market Value Forecast for James Philip Milner to 2026"
        },
        "xaxis": {
         "title": {
          "text": "Date"
         }
        },
        "yaxis": {
         "title": {
          "text": "Market Value (EUR)"
         }
        }
       }
      }
     },
     "metadata": {},
     "output_type": "display_data"
    },
    {
     "name": "stdout",
     "output_type": "stream",
     "text": [
      "\n",
      "--- 🚀 Final Forecast ---\n",
      "The model forecasts James Philip Milner's market value in late 2026 to be around: €1,616,205\n",
      "The player's current social media sentiment is: Positive (Score: 0.13)\n"
     ]
    }
   ],
   "source": [
    "import pandas as pd\n",
    "import numpy as np\n",
    "import requests\n",
    "import os\n",
    "from dotenv import load_dotenv\n",
    "from sklearn.preprocessing import MinMaxScaler\n",
    "from tensorflow.keras.models import Sequential\n",
    "from tensorflow.keras.layers import LSTM, Dense\n",
    "import plotly.graph_objects as go\n",
    "\n",
    "# --- 1. Load Secrets and Datasets ---\n",
    "load_dotenv() # Load variables from .env file\n",
    "# bearer_token = os.getenv(\"BEARER_TOKEN\") # You can now use this for API calls\n",
    "\n",
    "try:\n",
    "    df_perf = pd.read_csv('Full Dataset (league standings with players stats).csv')\n",
    "    df_injuries = pd.read_csv('James_Milner_injuries.csv')\n",
    "    df_sentiment = pd.read_csv('James_Milner_recent_sentiment.csv') # Load recent sentiment\n",
    "    player_id = \"3333\" # James Milner\n",
    "    url = f\"https://www.transfermarkt.com/ceapi/marketValueDevelopment/graph/{player_id}\"\n",
    "    headers = {'User-Agent': 'Mozilla/5.0'}\n",
    "    response = requests.get(url, headers=headers)\n",
    "    df_value = pd.DataFrame(response.json().get('list', []))\n",
    "    df_value = df_value[['datum_mw', 'y']].rename(columns={'datum_mw': 'date', 'y': 'market_value_eur'})\n",
    "    df_value['date'] = pd.to_datetime(df_value['date'], format='%d.%m.%Y')\n",
    "    print(\"✅ Successfully loaded all datasets.\")\n",
    "except Exception as e:\n",
    "    print(f\"❌ Error loading data: {e}\")\n",
    "    exit()\n",
    "\n",
    "# --- 2. Create the Master Time-Series (As before) ---\n",
    "df_perf = df_perf.loc[:, ~df_perf.columns.str.contains('^Unnamed')]\n",
    "df_perf['fullname'] = df_perf['firstname'] + ' ' + df_perf['lastname']\n",
    "player_name = \"James Philip Milner\"\n",
    "df_player_perf = df_perf[df_perf['fullname'] == player_name].copy()\n",
    "df_player_perf['season_year'] = df_player_perf['season'].astype(str).str.split('/').str[0]\n",
    "df_player_perf['date'] = pd.to_datetime(df_player_perf['season_year'] + '-06-30', format='%y-%m-%d', errors='coerce')\n",
    "df_player_perf.dropna(subset=['date'], inplace=True)\n",
    "df_injuries['start_date'] = pd.to_datetime(df_injuries['start_date'], errors='coerce', dayfirst=True)\n",
    "df_injuries['end_date'] = pd.to_datetime(df_injuries['end_date'], errors='coerce', dayfirst=True)\n",
    "df_injuries.dropna(subset=['start_date', 'end_date'], inplace=True)\n",
    "df_injuries['days_missed'] = pd.to_numeric(df_injuries['days_missed'], errors='coerce').fillna(0)\n",
    "start_date = df_player_perf['date'].min()\n",
    "end_date = pd.to_datetime('today')\n",
    "quarterly_dates = pd.date_range(start=start_date, end=end_date, freq='QE')\n",
    "df_master = pd.DataFrame(index=quarterly_dates)\n",
    "df_master = pd.merge_asof(df_master.sort_index(), df_value.sort_values('date'), left_index=True, right_on='date', direction='nearest')\n",
    "df_master.set_index('date', inplace=True); df_master['market_value_eur'] = df_master['market_value_eur'].ffill()\n",
    "df_player_perf.set_index('date', inplace=True)\n",
    "df_master = df_master.join(df_player_perf[['totalGoals', 'goalAssists', 'totalShots']]); df_master[['totalGoals', 'goalAssists', 'totalShots']] = df_master[['totalGoals', 'goalAssists', 'totalShots']].ffill()\n",
    "df_master['days_injured'] = 0\n",
    "for index, row in df_master.iterrows():\n",
    "    quarter_start = row.name - pd.DateOffset(months=3); quarter_end = row.name\n",
    "    overlapping_injuries = df_injuries[(df_injuries['start_date'] <= quarter_end) & (df_injuries['end_date'] >= quarter_start)]\n",
    "    total_days_missed = 0\n",
    "    if not overlapping_injuries.empty:\n",
    "        for _, injury_row in overlapping_injuries.iterrows():\n",
    "            overlap_start = max(quarter_start, injury_row['start_date']); overlap_end = min(quarter_end, injury_row['end_date'])\n",
    "            total_days_missed += (overlap_end - overlap_start).days if (overlap_end - overlap_start).days > 0 else 0\n",
    "    df_master.loc[index, 'days_injured'] = total_days_missed\n",
    "df_master.fillna(0, inplace=True)\n",
    "\n",
    "# --- 3. Train the Final LSTM Model (As before) ---\n",
    "data_to_train = df_master[['totalGoals', 'goalAssists', 'days_injured', 'market_value_eur']].copy()\n",
    "sequence_length = 4\n",
    "scaler = MinMaxScaler(feature_range=(0, 1)); scaled_data = scaler.fit_transform(data_to_train)\n",
    "X, y = [], [];\n",
    "for i in range(sequence_length, len(scaled_data)):\n",
    "    X.append(scaled_data[i-sequence_length:i, :]); y.append(scaled_data[i, -1])\n",
    "X, y = np.array(X), np.array(y)\n",
    "model = Sequential([LSTM(units=50, return_sequences=True, input_shape=(X.shape[1], X.shape[2])), LSTM(units=50), Dense(units=1)])\n",
    "model.compile(optimizer='adam', loss='mean_squared_error'); print(\"\\nTraining final transfer value prediction model...\");\n",
    "model.fit(X, y, epochs=100, batch_size=4, verbose=0); print(\"✅ Final model trained.\")\n",
    "\n",
    "# --- 4. NEW: Forecast into the Future (to 2026) ---\n",
    "n_future_steps = (2026 - pd.to_datetime('today').year) * 4 # Number of quarters until end of 2026\n",
    "future_predictions_scaled = []\n",
    "current_sequence = X[-1].reshape(1, X.shape[1], X.shape[2]) # Start with the last known data\n",
    "\n",
    "for _ in range(n_future_steps):\n",
    "    next_pred_scaled = model.predict(current_sequence)\n",
    "    future_predictions_scaled.append(next_pred_scaled[0][0])\n",
    "    # Create a new sequence by removing the oldest step and adding the new prediction\n",
    "    new_step = np.insert(current_sequence[0, -1, 1:], -1, next_pred_scaled[0][0]).reshape(1, 1, X.shape[2])\n",
    "    current_sequence = np.append(current_sequence[:, 1:, :], new_step, axis=1)\n",
    "\n",
    "# Inverse transform the future predictions\n",
    "future_predictions = scaler.inverse_transform(np.concatenate((np.zeros((n_future_steps, 3)), np.array(future_predictions_scaled).reshape(-1, 1)), axis=1))[:, -1]\n",
    "future_dates = pd.date_range(start=df_master.index[-1] + pd.DateOffset(months=3), periods=n_future_steps, freq='QE')\n",
    "\n",
    "# --- 5. NEW: Calculate Recent Sentiment ---\n",
    "average_sentiment = df_sentiment['sentiment_score'].mean()\n",
    "sentiment_text = \"Positive\" if average_sentiment >= 0.05 else \"Negative\" if average_sentiment <= -0.05 else \"Neutral\"\n",
    "\n",
    "# --- 6. Visualize with Future Forecast ---\n",
    "fig = go.Figure()\n",
    "fig.add_trace(go.Scatter(x=df_master.index, y=df_master['market_value_eur'], mode='lines', name='Actual Historical Value'))\n",
    "fig.add_trace(go.Scatter(x=future_dates, y=future_predictions, mode='lines+markers', name='Forecasted Future Value', line=dict(dash='dash')))\n",
    "fig.update_layout(title=f\"Market Value Forecast for {player_name} to 2026\", xaxis_title=\"Date\", yaxis_title=\"Market Value (EUR)\")\n",
    "fig.show()\n",
    "\n",
    "print(\"\\n--- 🚀 Final Forecast ---\")\n",
    "print(f\"The model forecasts {player_name}'s market value in late 2026 to be around: €{future_predictions[-1]:,.0f}\")\n",
    "print(f\"The player's current social media sentiment is: {sentiment_text} (Score: {average_sentiment:.2f})\")"
   ]
  }
 ],
 "metadata": {
  "kernelspec": {
   "display_name": "Python 3",
   "language": "python",
   "name": "python3"
  },
  "language_info": {
   "codemirror_mode": {
    "name": "ipython",
    "version": 3
   },
   "file_extension": ".py",
   "mimetype": "text/x-python",
   "name": "python",
   "nbconvert_exporter": "python",
   "pygments_lexer": "ipython3",
   "version": "3.10.0"
  }
 },
 "nbformat": 4,
 "nbformat_minor": 5
}
